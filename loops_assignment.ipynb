{
 "cells": [
  {
   "cell_type": "markdown",
   "metadata": {},
   "source": [
    "# Module 2: Control Flow Assignments\n",
    "## Lesson 2.1: Conditional Statements\n"
   ]
  },
  {
   "cell_type": "markdown",
   "id": "e322b9f0",
   "metadata": {},
   "source": [
    "### Assignment 1: Simple if Statement"
   ]
  },
  {
   "cell_type": "code",
   "execution_count": 6,
   "id": "074c9d43",
   "metadata": {},
   "outputs": [
    {
     "name": "stdout",
     "output_type": "stream",
     "text": [
      "6 is a positive number\n"
     ]
    }
   ],
   "source": [
    "#Write a program that asks the user to input a number and prints whether the number is positive.\n",
    "\n",
    "num = int(input(\"Enter the a number: \"))\n",
    "\n",
    "if num>0:\n",
    "    print(f\"{num} is a positive number\")"
   ]
  },
  {
   "cell_type": "markdown",
   "id": "9843a4a7",
   "metadata": {},
   "source": [
    "### Assignment 2: if-else Statement\n"
   ]
  },
  {
   "cell_type": "code",
   "execution_count": 7,
   "id": "bbf9e8e4",
   "metadata": {},
   "outputs": [
    {
     "name": "stdout",
     "output_type": "stream",
     "text": [
      "5 is a positive number\n"
     ]
    }
   ],
   "source": [
    "#Write a program that asks the user to input a number and prints whether the number is positive or negative.\n",
    "\n",
    "num = int(input(\"Enter the a number: \"))\n",
    "\n",
    "if num>0:\n",
    "    print(f\"{num} is a positive number\")\n",
    "else:\n",
    "    print(f\"{num} is a negative number\")"
   ]
  },
  {
   "cell_type": "markdown",
   "id": "5f0e3a6b",
   "metadata": {},
   "source": [
    "### Assignment 3: if-elif-else Statement\n"
   ]
  },
  {
   "cell_type": "code",
   "execution_count": 8,
   "id": "de03a884",
   "metadata": {},
   "outputs": [
    {
     "name": "stdout",
     "output_type": "stream",
     "text": [
      "0 is a zero\n"
     ]
    }
   ],
   "source": [
    "#Write a program that asks the user to input a number and prints whether the number is positive, negative, or zero.\n",
    "\n",
    "num = int(input(\"Enter a number: \"))\n",
    "\n",
    "if num==0:\n",
    "    print(f\"{num} is a zero\")\n",
    "elif num>0:\n",
    "    print(f\"{num} is a positive number\")\n",
    "else:\n",
    "    print(f\"{num} is a negative number\")"
   ]
  },
  {
   "cell_type": "markdown",
   "id": "fa2224aa",
   "metadata": {},
   "source": [
    "\n",
    "### Assignment 4: Nested if Statement\n"
   ]
  },
  {
   "cell_type": "code",
   "execution_count": 13,
   "id": "d95a4784",
   "metadata": {},
   "outputs": [
    {
     "name": "stdout",
     "output_type": "stream",
     "text": [
      "-8 is a negative number\n"
     ]
    }
   ],
   "source": [
    "#Write a program that asks the user to input a number and prints whether the number is positive and even, positive and odd, or negative.\n",
    "\n",
    "num = int(input(\"Enter a number: \"))\n",
    "\n",
    "if num>0:\n",
    "    if num%2==0:\n",
    "     print(f\"{num} is positive and even number\")\n",
    "    else:\n",
    "        print(f\"{num} is positive and odd number\")\n",
    "else:\n",
    "   print(f\"{num} is a negative number\" )"
   ]
  },
  {
   "cell_type": "markdown",
   "id": "824270af",
   "metadata": {},
   "source": [
    "## Lesson 2.2: Loops\n"
   ]
  },
  {
   "cell_type": "markdown",
   "id": "a2e783ef",
   "metadata": {},
   "source": [
    "### Assignment 5: for Loop\n"
   ]
  },
  {
   "cell_type": "code",
   "execution_count": 15,
   "id": "1cb10135",
   "metadata": {},
   "outputs": [
    {
     "name": "stdout",
     "output_type": "stream",
     "text": [
      "1\n",
      "2\n",
      "3\n",
      "4\n",
      "5\n",
      "6\n",
      "7\n",
      "8\n",
      "9\n",
      "10\n"
     ]
    }
   ],
   "source": [
    "#Write a program that prints all the numbers from 1 to 10 using a for loop.\n",
    "\n",
    "for i in range(1,11):\n",
    "    print(i)"
   ]
  },
  {
   "cell_type": "markdown",
   "id": "7674bbab",
   "metadata": {},
   "source": [
    "### Assignment 6: while Loop"
   ]
  },
  {
   "cell_type": "code",
   "execution_count": 20,
   "id": "af0df7c3",
   "metadata": {},
   "outputs": [
    {
     "name": "stdout",
     "output_type": "stream",
     "text": [
      "1\n",
      "2\n",
      "3\n",
      "4\n",
      "5\n",
      "6\n",
      "7\n",
      "8\n",
      "9\n",
      "10\n"
     ]
    }
   ],
   "source": [
    "#Write a program that prints all the numbers from 1 to 10 using a while loop.\n",
    "\n",
    "n=1\n",
    "\n",
    "while n<=10:\n",
    "    print(n)\n",
    "    n =n+1   "
   ]
  },
  {
   "cell_type": "markdown",
   "id": "6ae57636",
   "metadata": {},
   "source": [
    "\n",
    "\n",
    "\n",
    "### Assignment 7: Nested Loops\n"
   ]
  },
  {
   "cell_type": "markdown",
   "id": "8d013a09",
   "metadata": {},
   "source": [
    "🔹 What is end in print()?\n",
    "\n",
    "By default, the print() function adds a newline (\\n) at the end of whatever it prints. \n",
    "\n",
    "The end parameter allows you to change what is printed at the end instead."
   ]
  },
  {
   "cell_type": "code",
   "execution_count": 44,
   "id": "292614b0",
   "metadata": {},
   "outputs": [
    {
     "name": "stdout",
     "output_type": "stream",
     "text": [
      "* * * * * \n",
      "* * * * * \n",
      "* * * * * \n",
      "* * * * * \n",
      "* * * * * \n"
     ]
    }
   ],
   "source": [
    "#Write a program that prints a 5x5 grid of asterisks (*) using nested loops.\n",
    "\n",
    "for i in range(5):\n",
    "    for j in range(5):\n",
    "        print(\"*\", end=\" \")\n",
    "    print()"
   ]
  },
  {
   "cell_type": "markdown",
   "id": "b072ec77",
   "metadata": {},
   "source": [
    "\n",
    "\n",
    "\n",
    "### Assignment 8: break Statement\n"
   ]
  },
  {
   "cell_type": "code",
   "execution_count": 50,
   "id": "f19738c5",
   "metadata": {},
   "outputs": [
    {
     "name": "stdout",
     "output_type": "stream",
     "text": [
      "Sum of all the input number is 6\n",
      "Sum of all the input number is 13\n",
      "Sum of all the input number is 22\n",
      "Sum of all the input number is 35\n"
     ]
    }
   ],
   "source": [
    "#Write a program that asks the user to input numbers until they input 0. The program should print the sum of all the input numbers.\n",
    "\n",
    "sum =0\n",
    "\n",
    "while True:\n",
    "    i = int(input(\"Enter a number: \"))\n",
    "    if i == 0:\n",
    "        break\n",
    "    sum = sum+i\n",
    "    print(f\"Sum of all the input number is {sum}\")\n",
    "    "
   ]
  },
  {
   "cell_type": "markdown",
   "id": "90b83940",
   "metadata": {},
   "source": [
    "\n",
    "\n",
    "\n",
    "### Assignment 9: continue Statement\n"
   ]
  },
  {
   "cell_type": "code",
   "execution_count": 52,
   "id": "2c1e97a5",
   "metadata": {},
   "outputs": [
    {
     "name": "stdout",
     "output_type": "stream",
     "text": [
      "1\n",
      "2\n",
      "3\n",
      "4\n",
      "6\n",
      "7\n",
      "8\n",
      "9\n",
      "10\n"
     ]
    }
   ],
   "source": [
    "#Write a program that prints all the numbers from 1 to 10 except 5 using a for loop and continue statement.\n",
    "\n",
    "    \n",
    "for i in range(1,11):\n",
    "    if i == 5:\n",
    "        continue\n",
    "    print(i)\n"
   ]
  },
  {
   "cell_type": "markdown",
   "id": "82fff197",
   "metadata": {},
   "source": [
    "\n",
    "\n",
    "\n",
    "### Assignment 10: pass Statement\n"
   ]
  },
  {
   "cell_type": "code",
   "execution_count": 53,
   "id": "b081ae35",
   "metadata": {},
   "outputs": [
    {
     "name": "stdout",
     "output_type": "stream",
     "text": [
      "1\n",
      "2\n",
      "3\n",
      "4\n",
      "5\n",
      "6\n",
      "7\n",
      "8\n",
      "9\n",
      "10\n"
     ]
    }
   ],
   "source": [
    "#Write a program that defines an empty function using the pass statement.\n",
    "\n",
    "for i in range(1,11):\n",
    "    if i == 5:\n",
    "        pass\n",
    "    print(i)"
   ]
  },
  {
   "cell_type": "markdown",
   "id": "83aa93d4",
   "metadata": {},
   "source": [
    "\n",
    "\n",
    "\n",
    "### Assignment 11: Combining Loops and Conditionals\n"
   ]
  },
  {
   "cell_type": "code",
   "execution_count": 56,
   "id": "a9d80664",
   "metadata": {},
   "outputs": [
    {
     "name": "stdout",
     "output_type": "stream",
     "text": [
      "2 is a even number\n",
      "4 is a even number\n",
      "6 is a even number\n",
      "8 is a even number\n",
      "10 is a even number\n",
      "12 is a even number\n",
      "14 is a even number\n",
      "16 is a even number\n",
      "18 is a even number\n"
     ]
    }
   ],
   "source": [
    "#Write a program that asks the user to input a number and prints all the even numbers from 1 to that number using a for loop.\n",
    "n = int(input(\"Enter a number: \"))\n",
    "\n",
    "for i in range(1,n):\n",
    "    if i%2==0:\n",
    "        print(f\"{i} is a even number\")\n",
    "\n"
   ]
  },
  {
   "cell_type": "markdown",
   "id": "78a8e353",
   "metadata": {},
   "source": [
    "\n",
    "### Assignment 12: Factorial Calculation\n"
   ]
  },
  {
   "cell_type": "code",
   "execution_count": 64,
   "id": "47b55829",
   "metadata": {},
   "outputs": [
    {
     "name": "stdout",
     "output_type": "stream",
     "text": [
      "Factorial of 3 is 6\n"
     ]
    }
   ],
   "source": [
    "#Write a program that calculates the factorial of a number input by the user using a while loop.\n",
    "\n",
    "n = int(input(\"Enter a number: \"))\n",
    "f=1\n",
    "i=1\n",
    "\n",
    "while i<=n:\n",
    "    f = f*i\n",
    "    i=i+1\n",
    "print(f\"Factorial of {n} is {f}\")"
   ]
  },
  {
   "cell_type": "markdown",
   "id": "cbf17d26",
   "metadata": {},
   "source": [
    "\n",
    "\n",
    "\n",
    "### Assignment 13: Sum of Digits\n"
   ]
  },
  {
   "cell_type": "code",
   "execution_count": 7,
   "id": "fbc73e16",
   "metadata": {},
   "outputs": [
    {
     "name": "stdout",
     "output_type": "stream",
     "text": [
      "Entered number is 34\n",
      "Sum of the digits of a number is 7\n"
     ]
    }
   ],
   "source": [
    "#Write a program that calculates the sum of the digits of a number input by the user using a while loop.\n",
    "\n",
    "n = int(input(\"Enter the number: \"))\n",
    "sum =0\n",
    "digit =0\n",
    "print(f\"Entered number is {n}\")\n",
    "while n >0:\n",
    "    d = n%10 # gives last digit of number as reminder\n",
    "    sum = sum + d \n",
    "    n = n//10 #  removes last digit from number\n",
    "print(f\"Sum of the digits of a number is {sum}\")"
   ]
  },
  {
   "cell_type": "markdown",
   "id": "3e39d24a",
   "metadata": {},
   "source": [
    "\n",
    "\n",
    "\n",
    "### Assignment 14: Prime Number Check\n"
   ]
  },
  {
   "cell_type": "code",
   "execution_count": 8,
   "id": "aae6176e",
   "metadata": {},
   "outputs": [
    {
     "name": "stdout",
     "output_type": "stream",
     "text": [
      "4 is not a prime number\n"
     ]
    }
   ],
   "source": [
    "#Write a program that checks if a number input by the user is a prime number using a for loop.\n",
    "\n",
    "n = int(input(\"Enter the number: \"))\n",
    "\n",
    "if n<=1:\n",
    "    print(f\"{n} is not a prime number.\")\n",
    "else:\n",
    "    is_prime= True\n",
    "    for i in range(2, int(n ** 0.5)+1):\n",
    "        if n%i == 0:\n",
    "            is_prime=False\n",
    "            break\n",
    "    if is_prime:\n",
    "        print(f\" {n} is a prime number\")\n",
    "    else:\n",
    "        print(f\"{n} is not a prime number\")"
   ]
  },
  {
   "cell_type": "markdown",
   "id": "323d82a5",
   "metadata": {},
   "source": [
    "\n",
    "\n",
    "\n",
    "### Assignment 15: Fibonacci Sequence\n"
   ]
  },
  {
   "cell_type": "code",
   "execution_count": 11,
   "id": "d1be3a69",
   "metadata": {},
   "outputs": [
    {
     "name": "stdout",
     "output_type": "stream",
     "text": [
      "0\n",
      "1\n",
      "1\n",
      "2\n"
     ]
    }
   ],
   "source": [
    "#Write a program that prints the first n Fibonacci numbers, where n is input by the user.\n",
    "\n",
    "n = int(input(\"Enter the number:\"))\n",
    "\n",
    "# First two numbers in the Fibonacci sequence\n",
    "a = 0\n",
    "b = 1\n",
    "\n",
    "for i in range(n):\n",
    "    print(a)\n",
    "    a, b = b, a+b\n"
   ]
  }
 ],
 "metadata": {
  "kernelspec": {
   "display_name": "Python 3",
   "language": "python",
   "name": "python3"
  },
  "language_info": {
   "codemirror_mode": {
    "name": "ipython",
    "version": 3
   },
   "file_extension": ".py",
   "mimetype": "text/x-python",
   "name": "python",
   "nbconvert_exporter": "python",
   "pygments_lexer": "ipython3",
   "version": "3.12.11"
  }
 },
 "nbformat": 4,
 "nbformat_minor": 5
}
