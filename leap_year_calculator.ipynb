{
 "cells": [
  {
   "cell_type": "markdown",
   "id": "4bedae91",
   "metadata": {},
   "source": [
    "### Calculate Leap year"
   ]
  },
  {
   "cell_type": "code",
   "execution_count": null,
   "id": "4c9f7fa2",
   "metadata": {},
   "outputs": [
    {
     "name": "stdout",
     "output_type": "stream",
     "text": [
      "This is a leap year\n"
     ]
    }
   ],
   "source": [
    "#taking user input \n",
    "\n",
    "year = int(input(\"Enter the year: \"))\n",
    "\n",
    "#Calculating whether its a leap year or not.  \n",
    "if year%4==0:\n",
    "    if year%100==0:\n",
    "        if year%400==0:\n",
    "            print(\"This is a leap year\")\n",
    "else:\n",
    "    print(\"This is not a leap year\")"
   ]
  }
 ],
 "metadata": {
  "kernelspec": {
   "display_name": "Python 3",
   "language": "python",
   "name": "python3"
  },
  "language_info": {
   "codemirror_mode": {
    "name": "ipython",
    "version": 3
   },
   "file_extension": ".py",
   "mimetype": "text/x-python",
   "name": "python",
   "nbconvert_exporter": "python",
   "pygments_lexer": "ipython3",
   "version": "3.12.11"
  }
 },
 "nbformat": 4,
 "nbformat_minor": 5
}
