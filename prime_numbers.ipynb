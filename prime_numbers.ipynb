{
 "cells": [
  {
   "cell_type": "markdown",
   "id": "047019fa",
   "metadata": {},
   "source": [
    "### Prime numbers between 1 and 100"
   ]
  },
  {
   "cell_type": "markdown",
   "id": "701161ae",
   "metadata": {},
   "source": [
    "Prime numbers are natural numbers greater than 1 that have exactly two distinct factors:\n",
    "\n",
    "1 and the number itself."
   ]
  },
  {
   "cell_type": "markdown",
   "id": "d9101081",
   "metadata": {},
   "source": [
    "🔸 Note:\n",
    "\n",
    "2 is the only even prime number. All other even numbers are divisible by 2, so they are not prime.\n",
    "\n",
    "1 is not a prime number because it has only one factor (itself)."
   ]
  },
  {
   "cell_type": "code",
   "execution_count": 7,
   "id": "683762f7",
   "metadata": {},
   "outputs": [
    {
     "name": "stdout",
     "output_type": "stream",
     "text": [
      "2 is a prime number\n",
      "3 is a prime number\n",
      "5 is a prime number\n",
      "7 is a prime number\n",
      "11 is a prime number\n",
      "13 is a prime number\n",
      "17 is a prime number\n",
      "19 is a prime number\n",
      "23 is a prime number\n",
      "29 is a prime number\n",
      "31 is a prime number\n",
      "37 is a prime number\n",
      "41 is a prime number\n",
      "43 is a prime number\n",
      "47 is a prime number\n",
      "53 is a prime number\n",
      "59 is a prime number\n",
      "61 is a prime number\n",
      "67 is a prime number\n",
      "71 is a prime number\n",
      "73 is a prime number\n",
      "79 is a prime number\n",
      "83 is a prime number\n",
      "89 is a prime number\n",
      "97 is a prime number\n"
     ]
    }
   ],
   "source": [
    "for i in range(1,101):\n",
    "# checking for i is greater than 1\n",
    "    if i>1:\n",
    "        # check for i has divisors other than 1 and itself\n",
    "        for n in range(2,i):\n",
    "            if i%n == 0:\n",
    "                break\n",
    "        else:\n",
    "            print(f\"{i} is a prime number\")\n",
    "        \n"
   ]
  }
 ],
 "metadata": {
  "kernelspec": {
   "display_name": "Python 3",
   "language": "python",
   "name": "python3"
  },
  "language_info": {
   "codemirror_mode": {
    "name": "ipython",
    "version": 3
   },
   "file_extension": ".py",
   "mimetype": "text/x-python",
   "name": "python",
   "nbconvert_exporter": "python",
   "pygments_lexer": "ipython3",
   "version": "3.12.11"
  }
 },
 "nbformat": 4,
 "nbformat_minor": 5
}
