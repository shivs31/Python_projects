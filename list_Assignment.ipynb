{
 "cells": [
  {
   "cell_type": "markdown",
   "metadata": {},
   "source": [
    "# Module 3: Data Structures Assignments\n",
    "## Lesson 3.1: Lists\n"
   ]
  },
  {
   "cell_type": "markdown",
   "id": "adcf83f6",
   "metadata": {},
   "source": [
    "### Assignment 1: Creating and Accessing Lists\n"
   ]
  },
  {
   "cell_type": "code",
   "execution_count": 55,
   "id": "316dd82d",
   "metadata": {},
   "outputs": [
    {
     "name": "stdout",
     "output_type": "stream",
     "text": [
      "[1, 2, 3, 4, 5, 6, 7, 8, 9, 10, 11, 12, 13, 14, 15, 16, 17, 18, 19, 20]\n"
     ]
    }
   ],
   "source": [
    "#Create a list of the first 20 positive integers. Print the list.\n",
    "lst = list(range(1,21))\n",
    "\n",
    "print(lst)"
   ]
  },
  {
   "cell_type": "markdown",
   "id": "fd2694ce",
   "metadata": {},
   "source": [
    "\n",
    "### Assignment 2: Accessing List Elements\n",
    "\n",
    "\n"
   ]
  },
  {
   "cell_type": "code",
   "execution_count": 56,
   "id": "b5ba5727",
   "metadata": {},
   "outputs": [
    {
     "name": "stdout",
     "output_type": "stream",
     "text": [
      "1\n",
      "11\n",
      "20\n"
     ]
    }
   ],
   "source": [
    "#Print the first, middle, and last elements of the list created in Assignment 1.\n",
    "first_element = lst[0]\n",
    "print(first_element)\n",
    "middle_element = lst[len(lst)//2]\n",
    "print(middle_element)\n",
    "last_element = lst[-1]\n",
    "print(last_element )"
   ]
  },
  {
   "cell_type": "markdown",
   "id": "16b4a416",
   "metadata": {},
   "source": [
    "\n",
    "### Assignment 3: List Slicing"
   ]
  },
  {
   "cell_type": "code",
   "execution_count": 57,
   "id": "157c820e",
   "metadata": {},
   "outputs": [
    {
     "name": "stdout",
     "output_type": "stream",
     "text": [
      "[1, 2, 3, 4, 5]\n",
      "[16, 17, 18, 19, 20]\n",
      "[6, 7, 8, 9, 10, 11, 12, 13, 14, 15, 16]\n"
     ]
    }
   ],
   "source": [
    "#Print the first five elements, the last five elements, and the elements from index 5 to 15 of the list created in \n",
    "\n",
    "first_five_elements = lst[0:5]\n",
    "print(first_five_elements)\n",
    "last_five_elements = lst[15:]\n",
    "print(last_five_elements)\n",
    "five_to_fifteen = lst[5:16]\n",
    "print(five_to_fifteen)"
   ]
  },
  {
   "cell_type": "markdown",
   "id": "f44c07c4",
   "metadata": {},
   "source": [
    "\n",
    "### Assignment 4: List Comprehensions\n"
   ]
  },
  {
   "cell_type": "code",
   "execution_count": 58,
   "id": "1bedd50c",
   "metadata": {},
   "outputs": [
    {
     "data": {
      "text/plain": [
       "[1, 4, 9, 16, 25, 36, 49, 64, 81, 100]"
      ]
     },
     "execution_count": 58,
     "metadata": {},
     "output_type": "execute_result"
    }
   ],
   "source": [
    "#Create a new list containing the squares of the first 10 positive integers using a list comprehension. Print the new list.\n",
    "\n",
    "[i**2 for i in range(1,11)]"
   ]
  },
  {
   "cell_type": "markdown",
   "id": "9b7b1806",
   "metadata": {},
   "source": [
    "\n",
    "### Assignment 5: Filtering Lists\n",
    "\n",
    "Create a new list containing only the even numbers from the list created in Assignment 1 using a list comprehension. Print the new list.\n"
   ]
  },
  {
   "cell_type": "code",
   "execution_count": 59,
   "id": "b7f4b51c",
   "metadata": {},
   "outputs": [
    {
     "name": "stdout",
     "output_type": "stream",
     "text": [
      "[2, 4, 6, 8, 10, 12, 14, 16, 18, 20]\n"
     ]
    }
   ],
   "source": [
    "lst\n",
    "\n",
    "even_num_lst = [i for i in lst if i%2==0]\n",
    "\n",
    "print(even_num_lst)"
   ]
  },
  {
   "cell_type": "markdown",
   "id": "0bd551fb",
   "metadata": {},
   "source": [
    "\n",
    "### Assignment 6: List Methods\n",
    "\n",
    "Create a list of random numbers and sort it in ascending and descending order. Remove the duplicates from the list and print the modified list.\n"
   ]
  },
  {
   "cell_type": "code",
   "execution_count": 5,
   "id": "95a06b1c",
   "metadata": {},
   "outputs": [
    {
     "name": "stdout",
     "output_type": "stream",
     "text": [
      "Original list: [18, 17, 6, 12, 13, 3, 14, 12, 17, 16, 4, 19, 17, 1, 20]\n",
      "Sorted random numbers in ascending order: [1, 3, 4, 6, 12, 12, 13, 14, 16, 17, 17, 17, 18, 19, 20]\n",
      "Sorted random numbers in descending order: [20, 19, 18, 17, 17, 17, 16, 14, 13, 12, 12, 6, 4, 3, 1]\n",
      "Removes duplicate numbers from the list: [1, 3, 4, 6, 12, 13, 14, 16, 17, 18, 19, 20]\n"
     ]
    }
   ],
   "source": [
    "import random\n",
    "\n",
    "random_numbers = [random.randint(1,20) for _ in range(15)]\n",
    "print(f\"Original list: {random_numbers}\")\n",
    "asc_order = sorted(random_numbers) # sort list in ascending order\n",
    "print(f\"Sorted random numbers in ascending order: {asc_order}\")\n",
    "desc_order = sorted(random_numbers, reverse=True) # sort list in descending order\n",
    "print(f\"Sorted random numbers in descending order: {desc_order}\")\n",
    "remove_duplicate = list(set(random_numbers))\n",
    "print(f\"Removes duplicate numbers from the list: {remove_duplicate}\")"
   ]
  },
  {
   "cell_type": "markdown",
   "id": "7189fb49",
   "metadata": {},
   "source": [
    "\n",
    "### Assignment 7: Nested Lists\n",
    "\n",
    "Create a nested list representing a 3x3 matrix and print the matrix. Access and print the element at the second row and third column.\n"
   ]
  },
  {
   "cell_type": "code",
   "execution_count": 13,
   "id": "514130d6",
   "metadata": {},
   "outputs": [
    {
     "name": "stdout",
     "output_type": "stream",
     "text": [
      "first element from second row: 6\n"
     ]
    }
   ],
   "source": [
    "matrix = [\n",
    "    [1,2,3],\n",
    "    [4,5,6],\n",
    "    [7,8,9]\n",
    "]\n",
    "\n",
    "print(f\"first element from second row: {matrix[1][2]}\")"
   ]
  }
 ],
 "metadata": {
  "kernelspec": {
   "display_name": "Python 3",
   "language": "python",
   "name": "python3"
  },
  "language_info": {
   "codemirror_mode": {
    "name": "ipython",
    "version": 3
   },
   "file_extension": ".py",
   "mimetype": "text/x-python",
   "name": "python",
   "nbconvert_exporter": "python",
   "pygments_lexer": "ipython3",
   "version": "3.12.11"
  }
 },
 "nbformat": 4,
 "nbformat_minor": 5
}
